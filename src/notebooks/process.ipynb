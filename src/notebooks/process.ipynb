{
 "cells": [
  {
   "cell_type": "code",
   "execution_count": 1,
   "metadata": {},
   "outputs": [],
   "source": [
    "import sys\n",
    "import numpy as np\n",
    "\n",
    "import matplotlib.pyplot as plt\n",
    "\n",
    "sys.path.append(\"..\")\n",
    "from range_compression import range_compression"
   ]
  },
  {
   "cell_type": "markdown",
   "metadata": {},
   "source": [
    "## Range compression"
   ]
  },
  {
   "cell_type": "code",
   "execution_count": 2,
   "metadata": {},
   "outputs": [
    {
     "name": "stdout",
     "output_type": "stream",
     "text": [
      "start range compression\n"
     ]
    }
   ],
   "source": [
    "cphd_file_path = \"../../data/cphd/SkyFi_2421P7ON-2_2024-01-06_0025Z_SAR_VERY-HIGH_Ishikawa-Japan_CPHD.cphd\"\n",
    "\n",
    "compressed_data = range_compression(cphd_file_path)"
   ]
  },
  {
   "cell_type": "code",
   "execution_count": 3,
   "metadata": {},
   "outputs": [
    {
     "name": "stdout",
     "output_type": "stream",
     "text": [
      "(40750, 19999)\n",
      "[[ 0.88295656+0.09420103j -0.8690246 +0.59965608j -0.32523393-0.62229593j\n",
      "   1.08969806-0.48228805j -0.51869791+1.20911232j]\n",
      " [ 0.25333758-0.19468437j -0.07338039+0.67555485j -0.54592299-0.59138639j\n",
      "   0.70679532-0.18796952j -0.08780515+0.72874051j]\n",
      " [-0.0313071 -0.43801695j  0.3407028 -0.00307057j  0.13507269+0.78242342j\n",
      "  -0.97588133-0.61030729j  0.84600867-0.34474423j]\n",
      " [ 0.55176233-0.08589453j -0.15449836+0.64809546j -0.9077697 -0.29348798j\n",
      "   1.03873842-0.87183944j  0.00515206+1.22713533j]\n",
      " [-0.25706186+0.12447073j -0.02011153-0.24756303j  0.38126535-0.14777556j\n",
      "  -0.16667115+0.63498294j -0.33920592-0.47598293j]]\n"
     ]
    }
   ],
   "source": [
    "print(compressed_data.shape)\n",
    "print(compressed_data[0:5, 0:5])"
   ]
  },
  {
   "cell_type": "code",
   "execution_count": 4,
   "metadata": {},
   "outputs": [
    {
     "ename": "",
     "evalue": "",
     "output_type": "error",
     "traceback": [
      "\u001b[1;31mThe Kernel crashed while executing code in the current cell or a previous cell. \n",
      "\u001b[1;31mPlease review the code in the cell(s) to identify a possible cause of the failure. \n",
      "\u001b[1;31mClick <a href='https://aka.ms/vscodeJupyterKernelCrash'>here</a> for more info. \n",
      "\u001b[1;31mView Jupyter <a href='command:jupyter.viewOutput'>log</a> for further details."
     ]
    }
   ],
   "source": [
    "plt.figure(figsize=(10, 8))\n",
    "intensity = 20 * np.log10(np.abs(compressed_data[0:20000, 0:10000]) + 1e-10)\n",
    "plt.imshow(intensity, aspect=\"auto\", cmap=\"viridis\", vmin=-50, vmax=0)\n",
    "plt.colorbar(label=\"Intensity [dB]\")\n",
    "plt.title(\"Range Compression Result\")\n",
    "plt.xlabel(\"Range\")\n",
    "plt.ylabel(\"Azimuth (Pulse)\")\n",
    "plt.tight_layout()\n",
    "plt.show()\n",
    "\n",
    "phase = np.angle(compressed_data[0:20000, 0:10000])\n",
    "plt.figure(figsize=(12, 8))\n",
    "plt.imshow(phase, cmap=\"hsv\")\n",
    "plt.colorbar(label=\"Phase [rad]\")\n",
    "plt.title(\"SAR Phase Image\")\n",
    "plt.tight_layout()\n",
    "plt.show()\n"
   ]
  },
  {
   "cell_type": "code",
   "execution_count": null,
   "metadata": {},
   "outputs": [],
   "source": []
  }
 ],
 "metadata": {
  "kernelspec": {
   "display_name": "venv",
   "language": "python",
   "name": "python3"
  },
  "language_info": {
   "codemirror_mode": {
    "name": "ipython",
    "version": 3
   },
   "file_extension": ".py",
   "mimetype": "text/x-python",
   "name": "python",
   "nbconvert_exporter": "python",
   "pygments_lexer": "ipython3",
   "version": "3.12.3"
  }
 },
 "nbformat": 4,
 "nbformat_minor": 2
}
